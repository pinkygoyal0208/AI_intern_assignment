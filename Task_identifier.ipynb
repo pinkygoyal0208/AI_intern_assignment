{
 "cells": [
  {
   "cell_type": "markdown",
   "id": "08047598-066e-4fdd-b54d-db5d7131a2a7",
   "metadata": {},
   "source": [
    "Task Extractor"
   ]
  },
  {
   "cell_type": "raw",
   "id": "3beac728-6bdb-46e8-b768-3316243366fc",
   "metadata": {},
   "source": [
    "This notebook is for a task extractor program that extracts tasks, assignees, deadlines, and categories to which the task belongs from the user given text."
   ]
  },
  {
   "cell_type": "markdown",
   "id": "d6569579-5704-49f1-8831-8d044f939fc2",
   "metadata": {},
   "source": [
    "Import Required Libraries"
   ]
  },
  {
   "cell_type": "raw",
   "id": "91f1dc42-2476-4266-90fe-f3678de8ee12",
   "metadata": {},
   "source": [
    "'spacy' for natural language processing\n",
    "'re' for regular expressions\n",
    "'tkinter' for the graphical user interface"
   ]
  },
  {
   "cell_type": "code",
   "execution_count": 81,
   "id": "2402898a-9e89-4ebc-be83-59507b557aa9",
   "metadata": {},
   "outputs": [],
   "source": [
    "import spacy\n",
    "import re\n",
    "from typing import List, Dict, Optional\n",
    "import tkinter as tk\n",
    "from tkinter import scrolledtext, messagebox"
   ]
  },
  {
   "cell_type": "markdown",
   "id": "928709fb-1244-4477-bad6-deec6e67e045",
   "metadata": {},
   "source": [
    "Define the Task Extractor class"
   ]
  },
  {
   "cell_type": "raw",
   "id": "f6203935-5d10-4548-acfc-82f98f91b28d",
   "metadata": {},
   "source": [
    "The TaskExtractor class contains the logic for extracting tasks from text. It includes methods for:\n",
    "1) Finding the subject of a sentence.\n",
    "2) Resolving pronouns.\n",
    "3) Extracting tasks, deadlines, and categories."
   ]
  },
  {
   "cell_type": "code",
   "execution_count": 82,
   "id": "e1fd4493-7401-4f06-aa91-e4dd59d72300",
   "metadata": {},
   "outputs": [],
   "source": [
    "class TaskExtractor:\n",
    "    def __init__(self):\n",
    "        # Load spaCy's English model\n",
    "        self.nlp = spacy.load('en_core_web_sm')\n",
    "        \n",
    "        # Words that indicate a task\n",
    "        self.task_triggers = {\n",
    "            'needs to', 'has to', 'must', 'should', 'required to',\n",
    "            'responsible for', 'to do', 'will', 'will have to', 'have to'\n",
    "        }\n",
    "        \n",
    "        # Categories and their associated keywords\n",
    "        self.task_categories = {\n",
    "            'Shopping': {'buy', 'purchase', 'get', 'order'},\n",
    "            'Work': {'submit', 'complete', 'prepare', 'review', 'write'},\n",
    "            'Cleaning': {'clean', 'organize', 'fix', 'arrange'},\n",
    "            'Communication': {'call', 'contact', 'email', 'send'},\n",
    "            'General': {'make', 'check', 'do'}\n",
    "        }\n",
    "\n",
    "    def find_subject(self, sentence: str) -> Optional[str]:\n",
    "        \"\"\"Find the subject of the sentence using dependency parsing.\"\"\"\n",
    "        doc = self.nlp(sentence)\n",
    "        for token in doc:\n",
    "            # Check if the token is the subject of the sentence\n",
    "            if token.dep_ in (\"nsubj\", \"nsubjpass\"):\n",
    "                return token.text\n",
    "        return None\n",
    "\n",
    "    def resolve_pronouns(self, sentence: str, previous_sentences: List[str]) -> str:\n",
    "        \"\"\"Replace pronouns like 'he' or 'she' with the actual person's name.\"\"\"\n",
    "        words = sentence.split()\n",
    "        if words and words[0].lower() in {'he', 'she', 'they', 'it', 'we', 'i'}:\n",
    "            # Look for the last mentioned person in previous sentences\n",
    "            for i in range(len(previous_sentences) - 1, -1, -1):\n",
    "                last_person = self.find_subject(previous_sentences[i])\n",
    "                if last_person:\n",
    "                    words[0] = last_person\n",
    "                    return \" \".join(words)\n",
    "        return sentence\n",
    "\n",
    "    def extract_tasks(self, text: str) -> List[Dict]:\n",
    "        \"\"\"Extract tasks from the given text.\"\"\"\n",
    "        # Clean the text and split into sentences\n",
    "        text = text.replace('\\n', ' ')\n",
    "        sentences = [sent.text.strip() for sent in self.nlp(text).sents]\n",
    "        tasks = []\n",
    "\n",
    "        for i, sentence in enumerate(sentences):\n",
    "            # Check if the sentence contains task indicators\n",
    "            if any(trigger in sentence.lower() for trigger in self.task_triggers):\n",
    "                # Resolve pronouns in the sentence\n",
    "                resolved_sentence = self.resolve_pronouns(sentence, sentences[:i])\n",
    "                \n",
    "                # Find the subject of the sentence as the assignee\n",
    "                assignee = self.find_subject(resolved_sentence)\n",
    "                \n",
    "                # Extract the deadline (if any)\n",
    "                deadline = self.extract_deadline(resolved_sentence)\n",
    "                \n",
    "                # Categorize the task\n",
    "                category = self.categorize(resolved_sentence)\n",
    "                \n",
    "                # Add the task to the list\n",
    "                tasks.append({\n",
    "                    'task': resolved_sentence,\n",
    "                    'assignee': assignee if assignee else \"Unspecified\",\n",
    "                    'deadline': deadline if deadline else \"Not specified\",\n",
    "                    'category': category\n",
    "                })\n",
    "\n",
    "        return tasks\n",
    "\n",
    "    def extract_deadline(self, text: str) -> Optional[str]:\n",
    "        \"\"\"Extract a deadline from the text using regex.\"\"\"\n",
    "        patterns = [\n",
    "            r'by\\s+(\\d{1,2}(?::\\d{2})?\\s*(?:am|pm|AM|PM))',\n",
    "            r'at\\s+(\\d{1,2}(?::\\d{2})?\\s*(?:am|pm|AM|PM))',\n",
    "            r'tomorrow',\n",
    "            r'tonight',\n",
    "            r'today'\n",
    "        ]\n",
    "        for pattern in patterns:\n",
    "            match = re.search(pattern, text.lower())\n",
    "            if match:\n",
    "                return match.group(0)\n",
    "        return None\n",
    "\n",
    "    def categorize(self, text: str) -> str:\n",
    "        \"\"\"Assign a category to the task based on keywords.\"\"\"\n",
    "        text_lower = text.lower()\n",
    "        for category, keywords in self.task_categories.items():\n",
    "            if any(keyword in text_lower for keyword in keywords):\n",
    "                return category\n",
    "        return 'General'"
   ]
  },
  {
   "cell_type": "markdown",
   "id": "ee2930b8-4ec3-4fee-8dad-6ab46cf124ff",
   "metadata": {},
   "source": [
    "Task Extractor GUI class"
   ]
  },
  {
   "cell_type": "raw",
   "id": "736ed8cd-1370-431c-aaba-4a40ceb53e8d",
   "metadata": {},
   "source": [
    "The TaskExtractorGUI class handles the GUI using Tkinter. It includes:\n",
    "1) An input text area for the user to enter text.\n",
    "2) A button to trigger task extraction.\n",
    "3) An output text area to display the extracted tasks."
   ]
  },
  {
   "cell_type": "code",
   "execution_count": 83,
   "id": "430e1cd9-5cc1-4e2d-aea2-3da3f6292b96",
   "metadata": {},
   "outputs": [],
   "source": [
    "class TaskExtractorGUI:\n",
    "    def __init__(self, root):\n",
    "        self.root = root\n",
    "        self.root.title(\"Task Extractor\")\n",
    "        \n",
    "        # Create input label and text area\n",
    "        self.label = tk.Label(root, text=\"Enter your text:\")\n",
    "        self.label.pack()\n",
    "        \n",
    "        self.input_text = scrolledtext.ScrolledText(root, width=50, height=10)\n",
    "        self.input_text.pack()\n",
    "        \n",
    "        # Create extract button\n",
    "        self.extract_button = tk.Button(root, text=\"Extract Tasks\", command=self.extract_tasks)\n",
    "        self.extract_button.pack()\n",
    "        \n",
    "        # Create output label and text area\n",
    "        self.output_label = tk.Label(root, text=\"Extracted Tasks:\")\n",
    "        self.output_label.pack()\n",
    "        \n",
    "        self.output_text = scrolledtext.ScrolledText(root, width=50, height=10)\n",
    "        self.output_text.pack()\n",
    "\n",
    "        # Initialize TaskExtractor\n",
    "        self.extractor = TaskExtractor()\n",
    "\n",
    "    def extract_tasks(self):\n",
    "        \"\"\"Extract tasks from the input text and display them.\"\"\"\n",
    "        input_data = self.input_text.get(\"1.0\", tk.END).strip()\n",
    "        if not input_data:\n",
    "            messagebox.showwarning(\"Input Error\", \"Please enter some text.\")\n",
    "            return\n",
    "        tasks = self.extractor.extract_tasks(input_data)\n",
    "        self.output_text.delete(\"1.0\", tk.END)  # Clear previous output\n",
    "        \n",
    "        if not tasks:\n",
    "            self.output_text.insert(tk.END, \"No tasks found.\")\n",
    "            return\n",
    "        \n",
    "        for task in tasks:\n",
    "            self.output_text.insert(tk.END, f\"Task: {task['task']}\\n\")\n",
    "            self.output_text.insert(tk.END, f\"Assigned to: {task['assignee']}\\n\")\n",
    "            self.output_text.insert(tk.END, f\"Deadline: {task['deadline']}\\n\")\n",
    "            self.output_text.insert(tk.END, f\"Category: {task['category']}\\n\")\n",
    "            self.output_text.insert(tk.END, \"-\" * 50 + \"\\n\")"
   ]
  },
  {
   "cell_type": "markdown",
   "id": "d1f5fa8a-eb8e-4c87-a800-015647fdd7c1",
   "metadata": {},
   "source": [
    "Run the Application"
   ]
  },
  {
   "cell_type": "raw",
   "id": "a226dd16-f06c-4a2a-a98a-de7543e1579e",
   "metadata": {},
   "source": [
    "Finally, we run the application by initializing the TaskExtractorGUI class."
   ]
  },
  {
   "cell_type": "code",
   "execution_count": 84,
   "id": "74929275-348f-49d2-b302-cee7d10b0771",
   "metadata": {},
   "outputs": [],
   "source": [
    "def main():\n",
    "    root = tk.Tk()\n",
    "    app = TaskExtractorGUI(root)\n",
    "    root.mainloop()\n",
    "\n",
    "if __name__ == \"__main__\":\n",
    "    main()"
   ]
  }
 ],
 "metadata": {
  "kernelspec": {
   "display_name": "Python 3 (ipykernel)",
   "language": "python",
   "name": "python3"
  },
  "language_info": {
   "codemirror_mode": {
    "name": "ipython",
    "version": 3
   },
   "file_extension": ".py",
   "mimetype": "text/x-python",
   "name": "python",
   "nbconvert_exporter": "python",
   "pygments_lexer": "ipython3",
   "version": "3.12.1"
  }
 },
 "nbformat": 4,
 "nbformat_minor": 5
}
